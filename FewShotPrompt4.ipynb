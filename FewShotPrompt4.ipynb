{
 "cells": [
  {
   "cell_type": "code",
   "execution_count": 23,
   "id": "503530dc-123a-48be-88d5-5723402203b9",
   "metadata": {},
   "outputs": [],
   "source": [
    "import openai\n",
    "import random\n",
    "import os #For accessing environment variables\n",
    "from dotenv import load_dotenv #To load variables from a .env file\n",
    "\n",
    "# Load environment variables from .env file \n",
    "load_dotenv()\n",
    "\n",
    "# Accessing Open A.I key, organisation id and project id from environment variables\n",
    "openai.api_key = os.getenv('OPENAI_API_KEY')\n",
    "openai.organization = os.getenv('OPENAI_ORG_ID') \n",
    "project_id = os.getenv('OPENAI_PROJECT_ID')\n"
   ]
  },
  {
   "cell_type": "code",
   "execution_count": 24,
   "id": "d9d51244-e465-4f12-a245-fa69deb19848",
   "metadata": {},
   "outputs": [],
   "source": [
    "# Caesar Cipher Encryption Function\n",
    "def caesar_encrypt(text, shift):\n",
    "    encrypted = \"\"\n",
    "    for char in text:\n",
    "        if char.isalpha():\n",
    "            start = ord('a') if char.islower() else ord('A')\n",
    "            new_char = chr(start + (ord(char) - start + shift) % 26)\n",
    "            encrypted += new_char\n",
    "        else:\n",
    "            encrypted += char\n",
    "    return encrypted\n"
   ]
  },
  {
   "cell_type": "code",
   "execution_count": 25,
   "id": "915ef584-372f-4226-ac44-ce28e437b6ab",
   "metadata": {},
   "outputs": [],
   "source": [
    "def decrypt_with_ai(encrypted_message, shift):\n",
    "    # Few-shot examples for the AI\n",
    "    few_shot_examples = \"\"\"\n",
    "    Example 1:\n",
    "    Encrypted: khoor\n",
    "    Decrypted: hello\n",
    "    Shift: 3\n",
    "\n",
    "    Example 2:\n",
    "    Encrypted: yvccf nficu\n",
    "    Decrypted: hello world\n",
    "    Shift: 13\n",
    "\n",
    "    Now, let's work through the decryption step-by-step:\n",
    "    1. Identify the shift used in the cipher.\n",
    "    2. For each character in the encrypted message, apply the reverse shift.\n",
    "    3. Combine the characters to form the decrypted message.\n",
    "    \"\"\"\n",
    "\n",
    "    # Prompt to the AI\n",
    "    prompt = f\"\"\"\n",
    "    {few_shot_examples}\n",
    "\n",
    "    Now decrypt the following message using a shift of {shift}:\n",
    "    Encrypted: {encrypted_message}\n",
    "    Please explain your reasoning step-by-step and provide the decrypted message:\n",
    "    \"\"\"\n",
    "\n",
    "    # Call the OpenAI API using the new format\n",
    "    try:\n",
    "        response = openai.ChatCompletion.create(\n",
    "            model=\"gpt-3.5-turbo\",\n",
    "            messages=[\n",
    "                {\"role\": \"system\", \"content\": \"You are a helpful assistant.\"},\n",
    "                {\"role\": \"user\", \"content\": prompt}\n",
    "            ]\n",
    "        )\n",
    "        return response['choices'][0]['message']['content'].strip()\n",
    "    \n",
    "    except Exception as e:\n",
    "        print(f\"Error occurred while contacting OpenAI API: {e}\")\n",
    "        return \"Error\"\n",
    "\n"
   ]
  },
  {
   "cell_type": "code",
   "execution_count": 26,
   "id": "25a4b5b1-8d76-4f4f-b89f-eb64add7e502",
   "metadata": {},
   "outputs": [],
   "source": [
    "# Playing the Game with AI Assistance\n",
    "def play_game_with_ai():\n",
    "    print(\"Welcome to the Caesar Cipher Game with AI!\")\n",
    "    \n",
    "    original_message = \"HELLO\"\n",
    "    shift = random.randint(1, 25)  # Random shift for the cipher\n",
    "    encrypted_message = caesar_encrypt(original_message.lower(), shift)\n",
    "    \n",
    "    print(f\"\\nEncrypted Message: {encrypted_message}\")\n",
    "    \n",
    "    ai_guess = decrypt_with_ai(encrypted_message, shift)\n",
    "    \n",
    "    print(f\"\\nAI's guess for the original message: {ai_guess.upper()}\")\n",
    "    \n",
    "    user_guess = input(\"Now, try to guess the original message yourself: \").upper()\n",
    "    \n",
    "    if user_guess == original_message:\n",
    "        print(\"Congratulations! You guessed the correct message.\")\n",
    "    else:\n",
    "        print(f\"Sorry, that's not correct. The original message was: {original_message}\")\n"
   ]
  },
  {
   "cell_type": "code",
   "execution_count": 27,
   "id": "d0579d5e-1cac-4a65-abe7-75975c5fac77",
   "metadata": {},
   "outputs": [
    {
     "name": "stdout",
     "output_type": "stream",
     "text": [
      "Welcome to the Caesar Cipher Game with AI!\n",
      "\n",
      "Encrypted Message: vszzc\n",
      "Error occurred while contacting OpenAI API: \n",
      "\n",
      "You tried to access openai.ChatCompletion, but this is no longer supported in openai>=1.0.0 - see the README at https://github.com/openai/openai-python for the API.\n",
      "\n",
      "You can run `openai migrate` to automatically upgrade your codebase to use the 1.0.0 interface. \n",
      "\n",
      "Alternatively, you can pin your installation to the old version, e.g. `pip install openai==0.28`\n",
      "\n",
      "A detailed migration guide is available here: https://github.com/openai/openai-python/discussions/742\n",
      "\n",
      "\n",
      "AI's guess for the original message: ERROR\n"
     ]
    },
    {
     "name": "stdin",
     "output_type": "stream",
     "text": [
      "Now, try to guess the original message yourself:  hi\n"
     ]
    },
    {
     "name": "stdout",
     "output_type": "stream",
     "text": [
      "Sorry, that's not correct. The original message was: HELLO\n"
     ]
    }
   ],
   "source": [
    "# Start the game\n",
    "play_game_with_ai()\n"
   ]
  },
  {
   "cell_type": "code",
   "execution_count": 22,
   "id": "57cd82df-d174-4f85-b41f-5bd9bd3996ae",
   "metadata": {},
   "outputs": [
    {
     "ename": "SyntaxError",
     "evalue": "invalid syntax (2463506640.py, line 1)",
     "output_type": "error",
     "traceback": [
      "\u001b[1;36m  Cell \u001b[1;32mIn[22], line 1\u001b[1;36m\u001b[0m\n\u001b[1;33m    openai migrate\u001b[0m\n\u001b[1;37m           ^\u001b[0m\n\u001b[1;31mSyntaxError\u001b[0m\u001b[1;31m:\u001b[0m invalid syntax\n"
     ]
    }
   ],
   "source": []
  },
  {
   "cell_type": "code",
   "execution_count": null,
   "id": "d55ed65a-62b7-40e2-8265-d1fa8fb96be8",
   "metadata": {},
   "outputs": [],
   "source": []
  }
 ],
 "metadata": {
  "kernelspec": {
   "display_name": "Python 3 (ipykernel)",
   "language": "python",
   "name": "python3"
  },
  "language_info": {
   "codemirror_mode": {
    "name": "ipython",
    "version": 3
   },
   "file_extension": ".py",
   "mimetype": "text/x-python",
   "name": "python",
   "nbconvert_exporter": "python",
   "pygments_lexer": "ipython3",
   "version": "3.12.4"
  }
 },
 "nbformat": 4,
 "nbformat_minor": 5
}
